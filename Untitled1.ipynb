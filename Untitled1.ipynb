{
 "cells": [
  {
   "cell_type": "markdown",
   "id": "a8392714-a1fd-476c-994c-51cb41e8749a",
   "metadata": {},
   "source": [
    "- IQR\n",
    "- Probability\n",
    "- Permutation and Combination\n",
    "- Confidence Interval\n",
    "- P-Value\n",
    "- Hypothesis Testing"
   ]
  },
  {
   "cell_type": "code",
   "execution_count": 5,
   "id": "5eaec46f-194b-4887-a200-25f0f42b8498",
   "metadata": {},
   "outputs": [],
   "source": [
    "import numpy as np\n",
    "import matplotlib.pyplot as plt\n",
    "%matplotlib inline"
   ]
  },
  {
   "cell_type": "code",
   "execution_count": 21,
   "id": "88e84a7a-de48-4754-9e53-a44dbf282f0b",
   "metadata": {},
   "outputs": [
    {
     "data": {
      "text/plain": [
       "(array([21.,  0.,  0.,  0.,  0.,  0.,  0.,  0.,  0.,  2.]),\n",
       " array([ 10. ,  19.8,  29.6,  39.4,  49.2,  59. ,  68.8,  78.6,  88.4,\n",
       "         98.2, 108. ]),\n",
       " <BarContainer object of 10 artists>)"
      ]
     },
     "execution_count": 21,
     "metadata": {},
     "output_type": "execute_result"
    },
    {
     "data": {
      "image/png": "[encoded data removed]",
      "text/plain": [
       "<Figure size 640x480 with 1 Axes>"
      ]
     },
     "metadata": {},
     "output_type": "display_data"
    }
   ],
   "source": [
    "dataset = [11, 10, 12,13, 15,12,11, 14, 12, 13, 15,18 ,17, 19,107, 12,13,14,16,12,15,108,10]\n",
    "plt.hist(dataset)"
   ]
  },
  {
   "cell_type": "code",
   "execution_count": 31,
   "id": "05ff29c2-1c73-4ee7-a022-98adafc876b4",
   "metadata": {},
   "outputs": [
    {
     "data": {
      "text/plain": [
       "[107, 108]"
      ]
     },
     "execution_count": 31,
     "metadata": {},
     "output_type": "execute_result"
    }
   ],
   "source": [
    "def detect_outlier(data, threshold = 3):\n",
    "    mean = np.mean(data)\n",
    "    std = np.std(data)\n",
    "\n",
    "    z_scored_data = [(i-mean)/std for i in data]\n",
    "    z_scored_data = [z_scored_data.index(i) for i in z_scored_data if i>threshold]\n",
    "    return [data[i] for i in z_scored_data]\n",
    "\n",
    "detect_outlier(dataset)\n",
    "    "
   ]
  },
  {
   "cell_type": "markdown",
   "id": "2dde1a3c-58b9-4044-bd6c-c470807f3196",
   "metadata": {},
   "source": [
    "- IQR\n",
    "\n",
    "1. Sort the data\n",
    "2. Calculate Q1 & Q3\n",
    "3. IQR = Q3-Q1\n",
    "4. LOWER FENCE = Q1-1.5*IQR\n",
    "5. UPPER FENCE = Q1+1.5*IQR"
   ]
  },
  {
   "cell_type": "code",
   "execution_count": 34,
   "id": "cde3d55b-32fc-4fc2-b173-ac13381a133b",
   "metadata": {},
   "outputs": [
    {
     "name": "stdout",
     "output_type": "stream",
     "text": [
      "12.0 15.5\n"
     ]
    }
   ],
   "source": [
    "dataset = sorted(dataset)\n",
    "\n",
    "q1, q3 = np.percentile(dataset, [25,75])\n",
    "print(q1, q3)"
   ]
  },
  {
   "cell_type": "code",
   "execution_count": 48,
   "id": "6e9cb904-c016-4298-a6ac-2f9c61bf6102",
   "metadata": {},
   "outputs": [
    {
     "name": "stdout",
     "output_type": "stream",
     "text": [
      "6.75 20.75\n"
     ]
    },
    {
     "data": {
      "text/plain": [
       "[107, 108]"
      ]
     },
     "execution_count": 48,
     "metadata": {},
     "output_type": "execute_result"
    }
   ],
   "source": [
    "iqr = q3-q1\n",
    "lower_fence = q1-1.5*iqr\n",
    "higher_fence  = q3+1.5*iqr\n",
    "print(lower_fence, higher_fence)\n",
    "outlier = [i for i in dataset if i>higher_fence or i<lower_fence]\n",
    "outlier"
   ]
  },
  {
   "cell_type": "code",
   "execution_count": 54,
   "id": "d9d499c0-c2e7-4847-9b9b-c8a353b8af30",
   "metadata": {},
   "outputs": [
    {
     "data": {
      "text/plain": [
       "<Axes: >"
      ]
     },
     "execution_count": 54,
     "metadata": {},
     "output_type": "execute_result"
    },
    {
     "data": {
      "image/png": "[encoded data removed]",
      "text/plain": [
       "<Figure size 640x480 with 1 Axes>"
      ]
     },
     "metadata": {},
     "output_type": "display_data"
    }
   ],
   "source": [
    "import seaborn as sns\n",
    "sns.boxplot(dataset)"
   ]
  },
  {
   "cell_type": "markdown",
   "id": "e31d9514-1985-4a7e-b21a-b546b1d079f5",
   "metadata": {},
   "source": [
    "Probability: Probability is a measure of the likelihood of an event.\n",
    "\n",
    "E.g. Rolling a dice {1,2,3,4,5,6}\n",
    "\n",
    "     Prob(6) = # of way event can occcure/ # of possible outcome = 1/6\n",
    "\n",
    "     Toss a Coin {H, T}\n",
    "     Prob(H) = 1/2"
   ]
  },
  {
   "cell_type": "markdown",
   "id": "d81e2626-fcff-4c70-8f2e-fb4632f8e2fe",
   "metadata": {},
   "source": [
    "Addition Rule (Probability , \"or\")\n",
    "\n",
    "- Mutual Exclusive Events: Two events are mutually exclusive if they cannot occur in same time. e.g. Rolling a dice or Tossing a coin cause either i can get 1,2,3,4,5,6 or head,tell but not at same time 2 events can occur.\n",
    "\n",
    "- Non Mutual Exclusive Events: Two events are non mutually exclusive if they can occur in same time. e.g. selecting a card from deck of cards. the card can be of King as well as Red Heart\n",
    "\n",
    "\n",
    "- If i toss a coin what is the probability of getting a head or a tail?\n",
    "\n",
    "- - Prob(Heads or Tails) ?\n",
    "- - Prob(A or B) = P(A) + P(B)\n",
    "- - Prob(Heads or Tails) = 1/2 + 1/2 = 1\n",
    "\n",
    "- If what is the probability of getting a 3 or 6 or 1?\n",
    "\n",
    "- - Prob(A or B or C) = P(A) + P(B) + P(C)\n",
    "- - Prob(1 or 3 or 6) = 1/6 + 1/6 + 1/6 = 1/2\n",
    "\n",
    "- What is probability of getting Queen or a Heart?\n",
    "\n",
    "- - Non Mutual Exclusive Events.\n",
    "\n",
    "- - P(queen) = 4/52   P(heart) = 13/52   P(queen and heart) = 1/52\n",
    "- - Addition Rule for Non Mutual Exculsive Events: P(A or B) = P(A) + P(B) - P(A U B)\n",
    "- - Hence Probability will be P(Queen or Heart) = 4/52 + 13/52 - 1/52 = 16/52"
   ]
  },
  {
   "cell_type": "markdown",
   "id": "a56729d0-3965-4d7b-a9d2-449e33957589",
   "metadata": {},
   "source": [
    "Multiplication Rule\n",
    "\n",
    "Indepedndent Events: If each event is of same probabilty to occur.\n",
    "                      e.g. Rolling a dice, tossing a coin\n",
    "\n",
    "Dependent Events: If a bag is having 2 green balls and 3 red balls.\n",
    "                    if a ball is picked first P(Red) = 3/5 and P(Green) = 2/5\n",
    "                    say first ball is a red ball.\n",
    "                    So next time when we pick the balls probability will be P(Red) = 2/4 and P(Green) = 2/4. So this is called Conditional Probability\n",
    "\n",
    "Q1. What is the prob of getting a 5 and 4 in a dice?\n",
    "\n",
    "- - Prob(A and B) = P(A) * P(B) = 1/4\n",
    " \n",
    "Q2. WHat is prob of drawing a Queen and then aces from a deck or cards?\n",
    "\n",
    "- - Prob(A and B) = P(A) * P(B/A)\n",
    "                  = P(queen) * P(aces/queen)\n",
    "                  = 4/52 * 4/51\n",
    "                        "
   ]
  },
  {
   "cell_type": "code",
   "execution_count": null,
   "id": "dc161842-783c-4369-9067-54617d06871d",
   "metadata": {},
   "outputs": [],
   "source": []
  }
 ],
 "metadata": {
  "kernelspec": {
   "display_name": "genai_venv",
   "language": "python",
   "name": "genai_venv"
  },
  "language_info": {
   "codemirror_mode": {
    "name": "ipython",
    "version": 3
   },
   "file_extension": ".py",
   "mimetype": "text/x-python",
   "name": "python",
   "nbconvert_exporter": "python",
   "pygments_lexer": "ipython3",
   "version": "3.12.4"
  }
 },
 "nbformat": 4,
 "nbformat_minor": 5
}
